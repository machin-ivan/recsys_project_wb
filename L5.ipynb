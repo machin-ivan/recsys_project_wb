{
 "cells": [
  {
   "cell_type": "markdown",
   "id": "cc9cb960",
   "metadata": {},
   "source": [
    "## Бейслайны для сравнения"
   ]
  },
  {
   "cell_type": "code",
   "execution_count": 1,
   "id": "788bfe5d",
   "metadata": {},
   "outputs": [],
   "source": [
    "import pandas as pd\n",
    "import numpy as np\n",
    "import implicit\n",
    "import torch\n",
    "from tqdm import tqdm\n",
    "from scipy import sparse\n",
    "from sklearn.metrics import ndcg_score\n",
    "from torchmetrics import RetrievalHitRate, RetrievalNormalizedDCG, RetrievalMAP, RetrievalMRR"
   ]
  },
  {
   "cell_type": "code",
   "execution_count": 2,
   "id": "fb4d906f",
   "metadata": {},
   "outputs": [
    {
     "name": "stderr",
     "output_type": "stream",
     "text": [
      "/Users/ivanmachin/opt/anaconda3/lib/python3.8/site-packages/numpy/lib/arraysetops.py:583: FutureWarning: elementwise comparison failed; returning scalar instead, but in the future will perform elementwise comparison\n",
      "  mask |= (ar1 == a)\n"
     ]
    }
   ],
   "source": [
    "df = pd.read_csv('data/filtered_data.csv', index_col='Unnamed: 0')\n",
    "df.drop('count_', axis=1, inplace=True)"
   ]
  },
  {
   "cell_type": "code",
   "execution_count": 3,
   "id": "8971e76b",
   "metadata": {},
   "outputs": [
    {
     "name": "stdout",
     "output_type": "stream",
     "text": [
      "Train set size: 17908704\n",
      "Test set size: 853125\n"
     ]
    }
   ],
   "source": [
    "df = df.sort_values(['user_id', 'order_ts'])\n",
    "\n",
    "valid_users = df['user_id'].value_counts().loc[lambda x: x >= 3].index\n",
    "\n",
    "test_df = df[df['user_id'].isin(valid_users)].groupby('user_id').tail(1)\n",
    "\n",
    "train_df = df[~df.index.isin(test_df.index)]\n",
    "\n",
    "print('Train set size:', len(train_df))\n",
    "print('Test set size:', len(test_df))"
   ]
  },
  {
   "cell_type": "markdown",
   "id": "84a0ce28",
   "metadata": {},
   "source": [
    "## BERT"
   ]
  },
  {
   "cell_type": "code",
   "execution_count": 4,
   "id": "a9e731c2",
   "metadata": {},
   "outputs": [],
   "source": [
    "data = {'method': ['BERT'],\n",
    "    'hr@10': [0.309],\n",
    "    'ndcg@10': [0.186],\n",
    "    'mrr@10': [0.169]}\n",
    "\n",
    "results = pd.DataFrame(data)"
   ]
  },
  {
   "cell_type": "markdown",
   "id": "700f45b8",
   "metadata": {},
   "source": [
    "## POP"
   ]
  },
  {
   "cell_type": "code",
   "execution_count": 5,
   "id": "75f8a162",
   "metadata": {},
   "outputs": [],
   "source": [
    "def pop_baseline(df: pd.DataFrame, k=10):\n",
    "    return df.groupby('item_id').size().sort_values(ascending=False).head(k).index.to_list()"
   ]
  },
  {
   "cell_type": "code",
   "execution_count": 6,
   "id": "702b650f",
   "metadata": {},
   "outputs": [
    {
     "name": "stderr",
     "output_type": "stream",
     "text": [
      "HR: 0.0988 | NDCG: 0.0988 | MRR: 0.0350: 100%|██████████| 100000/100000 [02:19<00:00, 717.43it/s]\n"
     ]
    }
   ],
   "source": [
    "recommended_items = pop_baseline(train_df)\n",
    "num_users = 100000\n",
    "# num_users= len(test_df['user_id'].unique())\n",
    "hr_sum = 0\n",
    "ndcg_sum = 0\n",
    "mrr_sum = 0\n",
    "\n",
    "pbar = tqdm(test_df['user_id'].unique()[:num_users])\n",
    "for user_id in pbar:\n",
    "    last_bought_item = test_df.loc[test_df['user_id'] == user_id, 'item_id'].values[0]\n",
    "\n",
    "    if last_bought_item in recommended_items:\n",
    "        hr_sum += 1\n",
    "\n",
    "    gain = [1 if item == last_bought_item else 0 for item in recommended_items]\n",
    "    ndcg = ndcg_score([gain], [gain], k=10)\n",
    "    ndcg_sum += ndcg\n",
    "\n",
    "    rank = np.where(np.array(recommended_items) == last_bought_item)[0]\n",
    "    if len(rank) > 0:\n",
    "        mrr_sum += 1 / (rank[0] + 1)\n",
    "\n",
    "    pbar.set_description(f\"HR: {hr_sum / (user_id + 1):.4f} | NDCG: {ndcg_sum / (user_id + 1):.4f} | MRR: {mrr_sum / (user_id + 1):.4f}\")\n",
    "\n",
    "hr_at_10 = hr_sum / num_users\n",
    "ndcg_at_10 = ndcg_sum / num_users\n",
    "mrr_at_10 = mrr_sum / num_users"
   ]
  },
  {
   "cell_type": "code",
   "execution_count": 7,
   "id": "078ce9cd",
   "metadata": {},
   "outputs": [],
   "source": [
    "results = results.append({\n",
    "    'method': 'POP',\n",
    "    'hr@10': hr_at_10,\n",
    "    'ndcg@10': ndcg_at_10,\n",
    "    'mrr@10': mrr_at_10\n",
    "}, ignore_index=True)"
   ]
  },
  {
   "cell_type": "markdown",
   "id": "1a827cd8",
   "metadata": {},
   "source": [
    "## IALS"
   ]
  },
  {
   "cell_type": "code",
   "execution_count": 8,
   "id": "3d1f1b83",
   "metadata": {},
   "outputs": [],
   "source": [
    "train_matrix = sparse.coo_matrix((train_df['item_id'].astype(float), (train_df['user_id'], train_df['item_id'])))\n",
    "test_matrix = sparse.coo_matrix((test_df['item_id'].astype(float), (test_df['user_id'], test_df['item_id'])))"
   ]
  },
  {
   "cell_type": "code",
   "execution_count": 9,
   "id": "405d076d",
   "metadata": {},
   "outputs": [
    {
     "name": "stderr",
     "output_type": "stream",
     "text": [
      "/Users/ivanmachin/opt/anaconda3/lib/python3.8/site-packages/implicit/utils.py:28: UserWarning: OpenBLAS detected. Its highly recommend to set the environment variable 'export OPENBLAS_NUM_THREADS=1' to disable its internal multithreading\n",
      "  warnings.warn(\n",
      "/Users/ivanmachin/opt/anaconda3/lib/python3.8/site-packages/implicit/utils.py:138: ParameterWarning: Method expects CSR input, and was passed coo_matrix instead. Converting to CSR took 0.7132551670074463 seconds\n",
      "  warnings.warn(\n"
     ]
    },
    {
     "data": {
      "application/vnd.jupyter.widget-view+json": {
       "model_id": "b9cd8c9852384c3cbe136b5fec7f035f",
       "version_major": 2,
       "version_minor": 0
      },
      "text/plain": [
       "  0%|          | 0/15 [00:00<?, ?it/s]"
      ]
     },
     "metadata": {},
     "output_type": "display_data"
    }
   ],
   "source": [
    "num_factors = 250\n",
    "regularization = 0.01\n",
    "iterations = 20\n",
    "\n",
    "model = implicit.als.AlternatingLeastSquares(factors=num_factors)\n",
    "\n",
    "model.fit(train_matrix)"
   ]
  },
  {
   "cell_type": "code",
   "execution_count": 10,
   "id": "41ddf2ab",
   "metadata": {},
   "outputs": [
    {
     "name": "stderr",
     "output_type": "stream",
     "text": [
      "HR: 0.1560 | NDCG: 0.0871 | MRR: 0.0659: 100%|██████████| 100000/100000 [02:18<00:00, 721.00it/s]"
     ]
    },
    {
     "name": "stdout",
     "output_type": "stream",
     "text": [
      "HR@10: 0.19364\n",
      "NDCG@10: 0.108086046366437\n",
      "MRR@10: 0.08186239682539552\n"
     ]
    },
    {
     "name": "stderr",
     "output_type": "stream",
     "text": [
      "\n"
     ]
    }
   ],
   "source": [
    "num_users = 100000\n",
    "hit_count = 0\n",
    "ndcg = 0.0\n",
    "mrr = 0.0\n",
    "\n",
    "unique_user_ids = np.unique(test_matrix.row)[:num_users]\n",
    "\n",
    "pbar = tqdm(unique_user_ids[:num_users], desc=\"ALS метрики\")\n",
    "for user_id in pbar:\n",
    "    ground_truth_items = test_matrix.col[test_matrix.row == user_id]\n",
    "    user_recommendations, _ = model.recommend(user_id, train_matrix, N=10, \n",
    "                                              filter_already_liked_items=False)\n",
    "    \n",
    "    # HR\n",
    "    if len(set(user_recommendations) & set(ground_truth_items)) > 0:\n",
    "        hit_count += 1\n",
    "    \n",
    "    # NDCG\n",
    "    dcg = 0.0\n",
    "    idcg = np.sum(1 / np.log2(np.arange(2, len(ground_truth_items) + 2)))\n",
    "    \n",
    "    for rank, item in enumerate(user_recommendations):\n",
    "        if item in ground_truth_items:\n",
    "            relevance = 1\n",
    "            dcg += 1 / np.log2(rank + 2)\n",
    "    if idcg > 0.0:\n",
    "        ndcg += dcg / idcg\n",
    "    \n",
    "    # MRR\n",
    "    for rank, item in enumerate(user_recommendations):\n",
    "        if item in ground_truth_items:\n",
    "            mrr += 1.0 / (rank + 1)\n",
    "            break\n",
    "    pbar.set_description(f\"HR: {hit_count / (user_id + 1):.4f} | NDCG: {ndcg / (user_id + 1):.4f} | MRR: {mrr / (user_id + 1):.4f}\")\n",
    "\n",
    "num_users = len(unique_user_ids)\n",
    "hit_rate = hit_count / float(num_users)\n",
    "ndcg /= float(num_users)\n",
    "mrr /= float(num_users)\n",
    "\n",
    "# Print the results\n",
    "print(f\"HR@10: {hit_rate}\")\n",
    "print(f\"NDCG@10: {ndcg}\")\n",
    "print(f\"MRR@10: {mrr}\")\n"
   ]
  },
  {
   "cell_type": "code",
   "execution_count": 11,
   "id": "41a3a264",
   "metadata": {},
   "outputs": [],
   "source": [
    "results = results.append({\n",
    "    'method': 'ALS',\n",
    "    'hr@10': hit_rate,\n",
    "    'ndcg@10': ndcg,\n",
    "    'mrr@10': mrr\n",
    "}, ignore_index=True)"
   ]
  },
  {
   "cell_type": "code",
   "execution_count": 12,
   "id": "2e245e3d",
   "metadata": {},
   "outputs": [
    {
     "data": {
      "text/html": [
       "<div>\n",
       "<style scoped>\n",
       "    .dataframe tbody tr th:only-of-type {\n",
       "        vertical-align: middle;\n",
       "    }\n",
       "\n",
       "    .dataframe tbody tr th {\n",
       "        vertical-align: top;\n",
       "    }\n",
       "\n",
       "    .dataframe thead th {\n",
       "        text-align: right;\n",
       "    }\n",
       "</style>\n",
       "<table border=\"1\" class=\"dataframe\">\n",
       "  <thead>\n",
       "    <tr style=\"text-align: right;\">\n",
       "      <th></th>\n",
       "      <th>method</th>\n",
       "      <th>hr@10</th>\n",
       "      <th>ndcg@10</th>\n",
       "      <th>mrr@10</th>\n",
       "    </tr>\n",
       "  </thead>\n",
       "  <tbody>\n",
       "    <tr>\n",
       "      <th>0</th>\n",
       "      <td>BERT</td>\n",
       "      <td>0.30900</td>\n",
       "      <td>0.186000</td>\n",
       "      <td>0.169000</td>\n",
       "    </tr>\n",
       "    <tr>\n",
       "      <th>1</th>\n",
       "      <td>POP</td>\n",
       "      <td>0.12271</td>\n",
       "      <td>0.122710</td>\n",
       "      <td>0.043414</td>\n",
       "    </tr>\n",
       "    <tr>\n",
       "      <th>2</th>\n",
       "      <td>ALS</td>\n",
       "      <td>0.19364</td>\n",
       "      <td>0.108086</td>\n",
       "      <td>0.081862</td>\n",
       "    </tr>\n",
       "  </tbody>\n",
       "</table>\n",
       "</div>"
      ],
      "text/plain": [
       "  method    hr@10   ndcg@10    mrr@10\n",
       "0   BERT  0.30900  0.186000  0.169000\n",
       "1    POP  0.12271  0.122710  0.043414\n",
       "2    ALS  0.19364  0.108086  0.081862"
      ]
     },
     "execution_count": 12,
     "metadata": {},
     "output_type": "execute_result"
    }
   ],
   "source": [
    "results"
   ]
  },
  {
   "cell_type": "code",
   "execution_count": null,
   "id": "9e5ac393",
   "metadata": {},
   "outputs": [],
   "source": []
  }
 ],
 "metadata": {
  "kernelspec": {
   "display_name": "Python 3",
   "language": "python",
   "name": "python3"
  },
  "language_info": {
   "codemirror_mode": {
    "name": "ipython",
    "version": 3
   },
   "file_extension": ".py",
   "mimetype": "text/x-python",
   "name": "python",
   "nbconvert_exporter": "python",
   "pygments_lexer": "ipython3",
   "version": "3.8.8"
  }
 },
 "nbformat": 4,
 "nbformat_minor": 5
}
