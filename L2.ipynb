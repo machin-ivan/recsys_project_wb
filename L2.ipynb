{
 "cells": [
  {
   "cell_type": "markdown",
   "id": "a6eee5cd",
   "metadata": {},
   "source": [
    "# L2\n",
    "\n",
    "Схема решения:\n",
    "\n",
    "<img src=\"pics/schema.jpeg\" alt=\"Alternative text\" />\n",
    "\n",
    "- Если по введенному юзеру нет данных -> берем данные из бейзлайна\n",
    "- Если есть берем данные из документа с прерасчитанными рекоммендациями с помощью модели\n",
    "\n",
    "Бейзлайн (+ модификация):\n",
    "- Берем топ 10 товаров по уникальным юзерам за весь период, последний месяц, последнюю неделю, кладем в файл\n",
    "- При каждом запросе перемешиваем данные, выдаем 10 объектов\n",
    "\n",
    "Модель: \n",
    "- Тренируем разные модели на исходных данных, кладем результаты в файл\n",
    "- Отбираем лучшую, предсказываем рекоммендации, кладем в файл\n",
    "- При запросе возвращаем рекоммендации предсказанные моделью для юзера, подмешивая предсказания бейзлайна 80/20\n",
    "\n",
    "Список моделей интересных для теста:\n",
    "- SASRec\n",
    "https://arxiv.org/pdf/1808.09781.pdf (2018)\n",
    "    + enhanced loss functions https://arxiv.org/pdf/2301.00979.pdf (2023)\n",
    "- SASRec (RSS enhanced)  \n",
    "https://arxiv.org/pdf/2207.02643.pdf (2022)\n",
    "- BERT4Rec  \n",
    "https://arxiv.org/pdf/1904.06690.pdf (2019)\n",
    "- LightGCN  \n",
    "https://arxiv.org/pdf/2002.02126.pdf (2020)\n",
    "- Bilateral Variational Autoencoder (BiVAE)\n",
    "https://www.researchgate.net/publication/349912443_Bilateral_Variational_Autoencoder_for_Collaborative_Filtering (2021)\n",
    "- Caser\n",
    "https://arxiv.org/pdf/1809.07426.pdf (2018)"
   ]
  }
 ],
 "metadata": {
  "kernelspec": {
   "display_name": "Python 3",
   "language": "python",
   "name": "python3"
  },
  "language_info": {
   "codemirror_mode": {
    "name": "ipython",
    "version": 3
   },
   "file_extension": ".py",
   "mimetype": "text/x-python",
   "name": "python",
   "nbconvert_exporter": "python",
   "pygments_lexer": "ipython3",
   "version": "3.8.8"
  }
 },
 "nbformat": 4,
 "nbformat_minor": 5
}
