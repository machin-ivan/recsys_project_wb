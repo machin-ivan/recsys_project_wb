{
 "cells": [
  {
   "cell_type": "markdown",
   "id": "73c5c318",
   "metadata": {},
   "source": [
    "# L3"
   ]
  },
  {
   "cell_type": "code",
   "execution_count": 1,
   "id": "a93d3a78",
   "metadata": {},
   "outputs": [],
   "source": [
    "import pandas as pd\n",
    "import numpy as np\n",
    "from sklearn.metrics import precision_score, recall_score, roc_auc_score\n",
    "from sklearn.metrics import ndcg_score\n",
    "import pickle"
   ]
  },
  {
   "cell_type": "code",
   "execution_count": 2,
   "id": "a0b71938",
   "metadata": {},
   "outputs": [
    {
     "name": "stderr",
     "output_type": "stream",
     "text": [
      "/Users/ivanmachin/opt/anaconda3/lib/python3.8/site-packages/numpy/lib/arraysetops.py:583: FutureWarning: elementwise comparison failed; returning scalar instead, but in the future will perform elementwise comparison\n",
      "  mask |= (ar1 == a)\n"
     ]
    }
   ],
   "source": [
    "df = pd.read_csv('data/filtered_data', index_col='Unnamed: 0')\n",
    "df.drop('count_', axis=1, inplace=True)\n",
    "\n",
    "df.order_ts = pd.to_datetime(df['order_ts'])\n",
    "df.sort_values(['user_id', 'order_ts'], inplace=True)"
   ]
  },
  {
   "cell_type": "code",
   "execution_count": 3,
   "id": "2cace308",
   "metadata": {},
   "outputs": [],
   "source": [
    "def train_val_test_split(df: pd.DataFrame):\n",
    "    \"\"\"\n",
    "    Сплит данных на train/val/test выборки, из юзеров имеющих\n",
    "    25 и более покупок отбираем 10 последних покупок у каждого для\n",
    "    тестовой выборки и 10 предпоследних для валидационной\n",
    "\n",
    "    Args:\n",
    "        df::pd.DataFrame\n",
    "\n",
    "    Returns:\n",
    "        train_df::pd.DataFrame\n",
    "            Обучающая выборка\n",
    "        val_df::pd.DataFrame\n",
    "            Валидационная выборка\n",
    "        test_df::pd.DataFrame\n",
    "            Тестовая выборка\n",
    "    \"\"\"\n",
    "    # Отфильтруем юзеров с менее чем 25 покупками\n",
    "    user_counts = df.groupby('user_id').count()['item_id']\n",
    "    # Создадим список из их id\n",
    "    valid_user_ids = user_counts[user_counts >= 25].index.to_list()\n",
    "\n",
    "    val_rows = []\n",
    "    test_rows = []\n",
    "    counter = 0\n",
    "    \n",
    "    # Проходим по каждому юзеру из отобранного списка \n",
    "    for uid in valid_user_ids:\n",
    "        user_data = df[df['user_id'] == uid]\n",
    "        test_rows.append(user_data.tail(10))\n",
    "        val_rows.append(user_data.iloc[-21:-11])\n",
    "        counter += 1\n",
    "        if counter % 10000 == 0:\n",
    "            print(f'{len(valid_user_ids)-counter} users remaining')\n",
    "\n",
    "    val_df = pd.concat(val_rows)\n",
    "    test_df = pd.concat(test_rows)\n",
    "    \n",
    "    train_df = df.drop(val_df.index)\n",
    "    train_df = train_df.drop(test_df.index)\n",
    "\n",
    "    return train_df, val_df, test_df"
   ]
  },
  {
   "cell_type": "code",
   "execution_count": 4,
   "id": "93e00be6",
   "metadata": {},
   "outputs": [],
   "source": [
    "try:\n",
    "    train_df = pd.read_csv('data/train_raw.csv', index_col='Unnamed: 0')\n",
    "    val_df = pd.read_csv('data/val_raw.csv', index_col='Unnamed: 0')\n",
    "    test_df = pd.read_csv('data/test_raw.csv', index_col='Unnamed: 0')\n",
    "except:\n",
    "    pass"
   ]
  },
  {
   "cell_type": "code",
   "execution_count": 7,
   "id": "bf110c01",
   "metadata": {},
   "outputs": [
    {
     "name": "stdout",
     "output_type": "stream",
     "text": [
      "243620 users remaining\n",
      "233620 users remaining\n",
      "223620 users remaining\n",
      "213620 users remaining\n",
      "203620 users remaining\n",
      "193620 users remaining\n",
      "183620 users remaining\n",
      "173620 users remaining\n",
      "163620 users remaining\n",
      "153620 users remaining\n",
      "143620 users remaining\n",
      "133620 users remaining\n",
      "123620 users remaining\n",
      "113620 users remaining\n",
      "103620 users remaining\n",
      "93620 users remaining\n",
      "83620 users remaining\n",
      "73620 users remaining\n",
      "63620 users remaining\n",
      "53620 users remaining\n",
      "43620 users remaining\n",
      "33620 users remaining\n",
      "23620 users remaining\n",
      "13620 users remaining\n",
      "3620 users remaining\n"
     ]
    }
   ],
   "source": [
    "train_df, val_df, test_df = train_val_test_split(df)\n",
    "\n",
    "val_df.to_csv('data/val_raw.csv')\n",
    "test_df.to_csv('data/test_raw.csv')\n",
    "train_df.to_csv('data/train_raw.csv')"
   ]
  },
  {
   "cell_type": "code",
   "execution_count": 5,
   "id": "30162383",
   "metadata": {},
   "outputs": [
    {
     "data": {
      "text/plain": [
       "((14185408, 3), (2536200, 3), (2536200, 3))"
      ]
     },
     "execution_count": 5,
     "metadata": {},
     "output_type": "execute_result"
    }
   ],
   "source": [
    "train_df.shape, val_df.shape, test_df.shape"
   ]
  },
  {
   "cell_type": "code",
   "execution_count": 6,
   "id": "b5544362",
   "metadata": {},
   "outputs": [],
   "source": [
    "def calculate_metrics(predictions: dict, \n",
    "                      ground_truth: dict, \n",
    "                      k=10):\n",
    "    \"\"\"\n",
    "    Считаем метрики\n",
    "    \n",
    "    Args:\n",
    "        predicitions::dict\n",
    "            Предсказанное ранжирование для каждого юзера\n",
    "        predicitions::dict\n",
    "            Действительное ранжирование взятое из истории покупок\n",
    "        k::int\n",
    "            Число k для метрик\n",
    "    Returns:\n",
    "        metrics::dict\n",
    "            Словарь со всеми метриками\n",
    "    \"\"\"\n",
    "    precision_at_k = []\n",
    "    recall_at_k = []\n",
    "    ndcg_at_k = []\n",
    "    hit_at_k = []\n",
    "\n",
    "    for user_id, pred_items in predictions.items():\n",
    "        true_items = ground_truth.get(user_id, [])\n",
    "        if len(true_items) < k:\n",
    "            print(f'Invalid ranking for user {user_id}')\n",
    "            continue\n",
    "\n",
    "        # Precision@k \n",
    "        precision = precision_score([1 if item in true_items else 0 for item in pred_items[:k]], \n",
    "                                    [1] * k,\n",
    "                                    average='binary')\n",
    "        precision_at_k.append(precision)\n",
    "\n",
    "        # Recall@k\n",
    "        relevant_items = set(true_items)\n",
    "        retrieved_items = set(pred_items[:k])\n",
    "        recall = len(relevant_items.intersection(retrieved_items)) / len(relevant_items)\n",
    "        recall_at_k.append(recall)\n",
    "        \n",
    "        # NDCG@k\n",
    "        ndcg = ndcg_score([true_items], [pred_items[:k]])\n",
    "        ndcg_at_k.append(ndcg)\n",
    "\n",
    "        # Hit@k\n",
    "        hit = 1 if len(set(pred_items[:k]).intersection(set(true_items))) > 0 else 0\n",
    "        hit_at_k.append(hit)\n",
    "\n",
    "    metrics = {\n",
    "        'precision@10': np.mean(precision_at_k),\n",
    "        'recall@10': np.mean(recall_at_k),\n",
    "        'ndcg@10': np.mean(ndcg_at_k),\n",
    "        'hit@10': np.mean(hit_at_k)\n",
    "    }\n",
    "\n",
    "    return metrics"
   ]
  },
  {
   "cell_type": "code",
   "execution_count": 7,
   "id": "777aac89",
   "metadata": {},
   "outputs": [
    {
     "name": "stdout",
     "output_type": "stream",
     "text": [
      "{'precision@10': 0.9, 'recall@10': 0.9, 'ndcg@10': 0.874599232477886, 'hit@10': 1.0}\n",
      "{'precision@10': 0.0, 'recall@10': 0.0, 'ndcg@10': 0.8128852131649043, 'hit@10': 0.0}\n",
      "{'precision@10': 1.0, 'recall@10': 1.0, 'ndcg@10': 1.0000000000000002, 'hit@10': 1.0}\n",
      "{'precision@10': 1.0, 'recall@10': 1.0, 'ndcg@10': 0.8306997855261401, 'hit@10': 1.0}\n"
     ]
    }
   ],
   "source": [
    "# 2 заменены местами, 1 заменян на неверный\n",
    "gt = {23: [14, 5, 84, 32, 6, 21, 27, 12, 34, 52]}\n",
    "preds = {23: [14, 5, 32, 84, 6, 21, 27, 12, 34, 100]}\n",
    "\n",
    "print(calculate_metrics(preds, gt))\n",
    "\n",
    "# Все мимо\n",
    "preds = {23: [0, 1, 2, 3, 4, 41, 42, 43, 44, 45]}\n",
    "\n",
    "print(calculate_metrics(preds, gt))\n",
    "\n",
    "# Полное совпадение\n",
    "preds = {23: [14, 5, 84, 32, 6, 21, 27, 12, 34, 52]}\n",
    "\n",
    "print(calculate_metrics(preds, gt))\n",
    "\n",
    "# 2 соседние пары id заменеы между собой\n",
    "preds = {23: [5, 14, 32, 84, 6, 21, 27, 12, 34, 52]}\n",
    "\n",
    "print(calculate_metrics(preds, gt))"
   ]
  },
  {
   "cell_type": "code",
   "execution_count": 8,
   "id": "2e6c0882",
   "metadata": {},
   "outputs": [],
   "source": [
    "def test_transform(test_df: pd.DataFrame):\n",
    "    \"\"\"\n",
    "    Приводим тестовую выборку к форме:\n",
    "    {'user_id': ['item_id0, item_id1, ..., item_id9']}\n",
    "    \n",
    "    Args:\n",
    "        test_df::pd.DataFrame\n",
    "    Returns:\n",
    "        gt::dict\n",
    "    \"\"\"\n",
    "    test_df = test_df.sort_values(['user_id', 'order_ts'])\n",
    "    users = test_df['user_id'].unique()\n",
    "    gt = {}\n",
    "    \n",
    "    for user in users:\n",
    "        user_interactions = test_df[test_df['user_id'] == user]['item_id'].tolist()\n",
    "        gt[user] = user_interactions\n",
    "        \n",
    "    return gt"
   ]
  },
  {
   "cell_type": "code",
   "execution_count": 9,
   "id": "fa7e48d5",
   "metadata": {},
   "outputs": [],
   "source": [
    "try:\n",
    "    with open(\"data/ground_truth.pkl\", \"rb\") as f:\n",
    "        gt = pickle.load(f)\n",
    "except:\n",
    "    gt = test_transform(test_df)"
   ]
  },
  {
   "cell_type": "code",
   "execution_count": 10,
   "id": "acff0ea3",
   "metadata": {},
   "outputs": [],
   "source": [
    "with open(\"data/ground_truth.pkl\", \"wb\") as f:\n",
    "    pickle.dump(gt, f)"
   ]
  },
  {
   "cell_type": "code",
   "execution_count": 11,
   "id": "8573ee2b",
   "metadata": {},
   "outputs": [],
   "source": [
    "def extract_inputs_labels(df: pd.DataFrame):\n",
    "    \"\"\"\n",
    "    Функция для извлечения inputs/labels списков для BERT\n",
    "    \n",
    "    Args:\n",
    "        df::pd.DataFrame\n",
    "    Returns:\n",
    "        inputs::list\n",
    "        labels::list\n",
    "    \"\"\"\n",
    "    inputs, labels = [], []\n",
    "    \n",
    "    for _, group in df.groupby('user_id'):\n",
    "        user_items = group['item_id'].tolist()\n",
    "        for i in range(len(user_items) - 1):\n",
    "            sequence = user_items[:i+1]\n",
    "            lead = user_items[i+1] \n",
    "            inputs.append(sequence)\n",
    "            labels.append(lead)\n",
    "            \n",
    "    return inputs, labels"
   ]
  },
  {
   "cell_type": "code",
   "execution_count": 12,
   "id": "fd868128",
   "metadata": {},
   "outputs": [],
   "source": [
    "try:\n",
    "    with open(\"data/val_inputs.pkl\", \"rb\") as f:\n",
    "        pickle.load(val_inputs, f)\n",
    "    with open(\"data/val_labels.pkl\", \"rb\") as f:\n",
    "        pickle.load(val_labels, f)\n",
    "    with open(\"data/train_inputs.pkl\", \"rb\") as f:\n",
    "        pickle.load(train_inputs, f)\n",
    "    with open(\"data/train_labels.pkl\", \"rb\") as f:\n",
    "        pickle.load(train_labels, f)\n",
    "except:\n",
    "    val_inputs, val_labels = extract_inputs_labels(val_df)\n",
    "    train_inputs, train_labels = extract_inputs_labels(train_df)"
   ]
  },
  {
   "cell_type": "code",
   "execution_count": 13,
   "id": "d4cfd4b4",
   "metadata": {},
   "outputs": [],
   "source": [
    "with open(\"data/val_inputs.pkl\", \"wb\") as f:\n",
    "    pickle.dump(val_inputs, f)\n",
    "with open(\"data/val_labels.pkl\", \"wb\") as f:\n",
    "    pickle.dump(val_labels, f)\n",
    "with open(\"data/train_inputs.pkl\", \"wb\") as f:\n",
    "    pickle.dump(train_inputs, f)\n",
    "with open(\"data/train_labels.pkl\", \"wb\") as f:\n",
    "    pickle.dump(train_labels, f)"
   ]
  },
  {
   "cell_type": "code",
   "execution_count": null,
   "id": "a717b18a",
   "metadata": {},
   "outputs": [],
   "source": []
  }
 ],
 "metadata": {
  "kernelspec": {
   "display_name": "Python 3",
   "language": "python",
   "name": "python3"
  },
  "language_info": {
   "codemirror_mode": {
    "name": "ipython",
    "version": 3
   },
   "file_extension": ".py",
   "mimetype": "text/x-python",
   "name": "python",
   "nbconvert_exporter": "python",
   "pygments_lexer": "ipython3",
   "version": "3.8.8"
  }
 },
 "nbformat": 4,
 "nbformat_minor": 5
}
